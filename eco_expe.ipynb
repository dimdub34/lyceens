{
 "cells": [
  {
   "cell_type": "code",
   "execution_count": 10,
   "metadata": {
    "collapsed": true,
    "slideshow": {
     "slide_type": "skip"
    }
   },
   "outputs": [],
   "source": [
    "import pandas as pd"
   ]
  },
  {
   "cell_type": "markdown",
   "metadata": {
    "slideshow": {
     "slide_type": "slide"
    }
   },
   "source": [
    "# L'économie expérimentale  "
   ]
  },
  {
   "cell_type": "markdown",
   "metadata": {
    "slideshow": {
     "slide_type": "subslide"
    }
   },
   "source": [
    "<img src=\"expe.png\" style=\"float: right; width:350px;\" />\n",
    "pendant longtemps l'économie a été considérée comme une science empirique et théorique, l'économiste devait se contenter des observations  \n",
    "<br>\n",
    "aujourd'hui l'économie est une science expérimentale"
   ]
  },
  {
   "cell_type": "markdown",
   "metadata": {
    "slideshow": {
     "slide_type": "subslide"
    }
   },
   "source": [
    "## Histoire\n",
    "* premières expériences après la 2<sup>nde</sup> guerre mondiale\n",
    "* contexte favorable\n",
    "    * la modélisation, les statistiques et les mathématiques commencent à jouer un rôle moteur comme instrument d'analyse\n",
    "    * ouvrage majeur de Von Neumann et Morgernstern (1944): Theory of games and economic behavior"
   ]
  },
  {
   "cell_type": "markdown",
   "metadata": {
    "slideshow": {
     "slide_type": "subslide"
    }
   },
   "source": [
    "## Trois grandes catégories d'expérience\n",
    "1. __expériences de marché__ (Chamberlin 1948, test de l'équilibre concurrentiel)  \n",
    "concurrence, asymétries d'information, dérèglements du marché etc.  \n",
    "<br>  \n",
    "2. __expériences de choix individuel__ (Mosteller & Nogee 1951, tests du modèle d'utilité espérée)  \n",
    "attitude vis-à-vis du risque, rationalité, apprentissage etc.  \n",
    "<br>\n",
    "3. __expériences en situation d'interaction stratégique__ (Flood & Dresher 1952, test de l'équilibre de Nash dans le dilemme du prisionnier)  \n",
    "confiance, coopération, coordination, comparaisons sociales, réciprocité, aversion aux inégalités etc."
   ]
  },
  {
   "cell_type": "markdown",
   "metadata": {
    "slideshow": {
     "slide_type": "subslide"
    }
   },
   "source": [
    "- travail important de Vernon Smith pour rendre la méthode scientifique et établir les règles à suivre pour construire et réaliser un expérience.  \n",
    "- véritable essor à partir des années 80\n",
    "- informatisation des expériences a beaucoup contribué au développement de la méthode  \n",
    "<br>\n",
    "- deux prix Nobel en 2002: Daniel Kahneman et Vernon Smith  \n",
    "- aujourd'hui l'expérimentation fait partie intégrante de la recherche en économie  \n",
    "<br>\n",
    "<center><img src=\"kahneman_smith.jpg\" style=\"height:200px\" alt=\"Kahneman & Smith\" title=\"Kahneman a Smith\"/></center>"
   ]
  },
  {
   "cell_type": "markdown",
   "metadata": {
    "slideshow": {
     "slide_type": "subslide"
    }
   },
   "source": [
    "## Principe"
   ]
  },
  {
   "cell_type": "markdown",
   "metadata": {},
   "source": [
    "- reconstituer en laboratoire une situation économique réelle de manière stylisée et simplifiée afin d'observer des comportements ou des phénomènes économiques\n",
    "- la reconstitution se fait dans un environnement contrôlé et paramétré par l'expérimentateur\n",
    "- le chercheur contrôle à la fois l'environnement et les règles institutionnelles, il peut donc étudier les réactions comportementales à des changements qu'il génère lui-même dans l'environnement ou les institutions  \n",
    "<br>\n",
    "- des participants (sujets) prennent des décisions dans le cadre fixé (interactions, informations ...)\n",
    "- les participants sont rémunérés, en fonction de leurs décisions et des décisions des autres participants. La règle de rémunération est propre à chaque expérience et est précisée dans les instructions  \n",
    "<br>\n",
    "- le chercheur étudie les décisions (individuelles ou collectives)"
   ]
  },
  {
   "cell_type": "markdown",
   "metadata": {
    "slideshow": {
     "slide_type": "subslide"
    }
   },
   "source": [
    "## Objectifs"
   ]
  },
  {
   "cell_type": "markdown",
   "metadata": {},
   "source": [
    "* tester une théorie\n",
    "* discriminer entre plusieurs théories concurrentes\n",
    "* déterminer les causes du rejet/échec d'une théorie\n",
    "* comparer différents environnements ou institutions et établir la robustesse de la théorie à ces changements\n",
    "* établir des régularités empiriques qui pourront servir de base à de nouvelles théories\n",
    "* produire des connaissances nouvelles, lorsque la théorie est incomplète ou inexistante, à partir de données exploratoires\n",
    "* évaluer les effets de différentes politiques publiques ou stratégies industrielles sans avoir à les mettre en place effectivement\n",
    "* enseigner des notions économiques complexes ou abstraites pour un étudiant"
   ]
  },
  {
   "cell_type": "markdown",
   "metadata": {
    "slideshow": {
     "slide_type": "subslide"
    }
   },
   "source": [
    "## Construction d'une expérience"
   ]
  },
  {
   "cell_type": "markdown",
   "metadata": {},
   "source": [
    "A partir d'une question de recherche\n",
    "* élaboration du protocole: traitements à réaliser, nombre de données indépendantes à collecter, jeu, interactions, informations, taille des groupes, fonctions de gains ...\n",
    "* écriture des instructions pour les sujets\n",
    "* développement du programme informatique\n",
    "* organisation et réalisation des sessions\n",
    "* analyse des données collectées: statistiques descriptives, tests paramétriques/non paramétriques, économétrie  \n",
    "\n",
    "Ecriture de l'article de recherche"
   ]
  },
  {
   "cell_type": "markdown",
   "metadata": {
    "slideshow": {
     "slide_type": "subslide"
    }
   },
   "source": [
    "## Plusieurs types d'expérience\n",
    "* expérience de laboratoire avec des étudiants\n",
    "* expérience de laboratoire avec des sujets du domaine d'étude (agriculteurs, traders ...)\n",
    "* expérience de terrain (contexte)\n",
    "* expérience de terrain naturelle"
   ]
  },
  {
   "cell_type": "markdown",
   "metadata": {
    "slideshow": {
     "slide_type": "skip"
    }
   },
   "source": [
    "## Références"
   ]
  },
  {
   "cell_type": "markdown",
   "metadata": {
    "slideshow": {
     "slide_type": "skip"
    }
   },
   "source": [
    "* Camerer & al., 2016, \"Evaluating replicability of laboratory experiments in economics\", _Science_ **351** (6280), pp. 1433-1436\n",
    "* Croson, R., 2005, \"The Method of Experimental Economics\", _International Negotiation_ **10**, pp. 131-148\n",
    "* Croson, R. & Gächter, S., 2010, \"The science of experimental economics\", _Journal of Economic Behavior & Organization_ **73**, pp. 122-131\n",
    "* Roth, A.E., 1993, \"On the Early History of Experimental Economics\", _Journal of the History of Economic\n",
    "Thought_ **15**, pp. 184-209."
   ]
  },
  {
   "cell_type": "markdown",
   "metadata": {
    "slideshow": {
     "slide_type": "skip"
    }
   },
   "source": [
    "* Serra, D., 2012, \"The experimental method in economics : old issues and new challenges\", Introduction to the special issue : Some methodological aspects of experimental economics, _Review of Philosophical Economics_ **13** (1), pp. 3-19.\n",
    "* Serra, D., 2012, \"Principes méthodologiques et pratiques de l'économie expérimentale : une vue d'ensemble\", _Review of Philosophical Economics_ **13** (1), pp. 20-78."
   ]
  }
 ],
 "metadata": {
  "celltoolbar": "Slideshow",
  "kernelspec": {
   "display_name": "Python 3",
   "language": "python",
   "name": "python3"
  },
  "language_info": {
   "codemirror_mode": {
    "name": "ipython",
    "version": 3
   },
   "file_extension": ".py",
   "mimetype": "text/x-python",
   "name": "python",
   "nbconvert_exporter": "python",
   "pygments_lexer": "ipython3",
   "version": "3.5.2"
  }
 },
 "nbformat": 4,
 "nbformat_minor": 1
}
