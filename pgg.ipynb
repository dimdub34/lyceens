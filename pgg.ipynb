{
 "cells": [
  {
   "cell_type": "markdown",
   "metadata": {
    "slideshow": {
     "slide_type": "slide"
    }
   },
   "source": [
    "<center><img src=\"pgg.png\" alt=\"Public Good Game\" title=\"Public Good Game\"/></center>"
   ]
  },
  {
   "cell_type": "markdown",
   "metadata": {
    "slideshow": {
     "slide_type": "slide"
    }
   },
   "source": [
    "# Le bien public  \n",
    "un bien public pur se caractérise par la __non-rivalité__ et la __non-exclusion__\n",
    "\n",
    "- non-rivalité: la consommation du bien par un agent n'empêche pas la consommation par un autre agent\n",
    "- non-exclusion: il n'est pas possible d'exclure un agent de sa consommation  \n",
    "  \n",
    "_Exemples: l'information, l'environnement, les espaces publics, une médiathèque, une émission de radio, l'armée etc._  \n",
    "  \n",
    "pour produire ces biens publics il faut que chacun contribue  \n",
    "- fiscalité ou subventions\n",
    "- contribution individuelle volontaire (trier ses déchets, réduire son niveau de pollution etc.)  "
   ]
  },
  {
   "cell_type": "markdown",
   "metadata": {
    "slideshow": {
     "slide_type": "slide"
    }
   },
   "source": [
    "# Le jeu de bien public\n",
    "pour représenter de manière simplifiée la problématique de contribution au bien public et étudier les comportements individuels et collectifs dans ce cadre\n",
    "- jeu standard en économie expérimentale\n",
    "- fait partie de la catégorie des jeux dits de dilemmes sociaux, cad des jeux dans lequels il existe un conflit entre l'intérêt individuel et l'intérêt collectif\n",
    "- permet de mesurer le niveau de coopération au sein d'un groupe"
   ]
  },
  {
   "cell_type": "markdown",
   "metadata": {
    "slideshow": {
     "slide_type": "subslide"
    }
   },
   "source": [
    "__équilibre du jeu est pour chaque joueur de placer 20 jetons dans son compte individuel et 0 jeton dans le compte collectif__  \n",
    "pour chaque joueur un jeton placé dans le compte individuel rapporte plus qu'un jeton placé dans le compte collectif  \n",
    "  \n",
    "__l'optimum social est atteint lorsque tous les joueurs placent tous leurs jetons dans le compte collectif__\n",
    "- si chaque joueur place tous ses jetons dans son compte individuel, chaque joueur gagne 20 jetons x 1 ecu = __20 ecus__\n",
    "- si chaque joueur place tous ses jetons dans le compte collectif, chaque joueur gagne 20 jetons x nombre de joueurs dans le groupe x 0.5 ecus. Avec 4 joueurs cela fait 20 x 4 x 0.5 = __40 ecus__  \n",
    "  \n",
    "__La tentation est de profiter de la contribution des autres (free riding)__  \n",
    "quel que soit le nombre de jetons placés par les autres sur le compte collectif il y a toujours un intérêt individuel à placer ses jetons sur son compte individuel plutôt que sur le compte collectif"
   ]
  },
  {
   "cell_type": "markdown",
   "metadata": {
    "slideshow": {
     "slide_type": "subslide"
    }
   },
   "source": [
    "## Régularités observées dans ce jeu\n",
    "- en 1ère période les individus contribuent en moyenne la moitié de leur dotation (10 jetons)\n",
    "- en moyenne les individus ne jouent pas l'équilibre, ils placent plus de jetons dans le compte collectif que ne le prédit la théorie\n",
    "- le niveau de contribution moyen décroît au cours du temps et s'approche de l'équilibre de Nash (0 jeton)\n",
    "- il existe essentiellement 4 profils types \n",
    "    - coopérateurs conditionnels (50%)\n",
    "    - \"free rider\" ou \"passagers clandestins\" (30%)\n",
    "    - coopérateurs inconditionnels\n",
    "    - triangulaires (coopérateurs conditionnels jusqu'à un certain niveau, puis free-rider)"
   ]
  },
  {
   "cell_type": "markdown",
   "metadata": {
    "slideshow": {
     "slide_type": "subslide"
    }
   },
   "source": [
    "## Laboratoire d'Economie Expérimentale de Montpellier - 2016  \n",
    "Groupes de 5 individus - Total compte collectif multiplié par 2.5 puis divisé en 5 parts égales  \n",
    "<br>\n",
    "<center><img src=\"pgg_evolution.png\" alt=\"PGG Evolution - LEEM 2016\" title=\"PGG Evolution - LEEM2016\" /></center>"
   ]
  },
  {
   "cell_type": "markdown",
   "metadata": {
    "slideshow": {
     "slide_type": "subslide"
    }
   },
   "source": [
    "## Mécanismes qui favorisent la coopération\n",
    "- la punition\n",
    "- la communication\n",
    "- la réputation\n",
    "- le leadership"
   ]
  }
 ],
 "metadata": {
  "celltoolbar": "Slideshow",
  "kernelspec": {
   "display_name": "Python 3",
   "language": "python",
   "name": "python3"
  },
  "language_info": {
   "codemirror_mode": {
    "name": "ipython",
    "version": 3
   },
   "file_extension": ".py",
   "mimetype": "text/x-python",
   "name": "python",
   "nbconvert_exporter": "python",
   "pygments_lexer": "ipython3",
   "version": "3.5.2"
  }
 },
 "nbformat": 4,
 "nbformat_minor": 1
}
